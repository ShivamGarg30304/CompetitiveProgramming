{
 "cells": [
  {
   "cell_type": "markdown",
   "id": "9833405b-b2ff-4735-9acd-f0c1d4bfaf3a",
   "metadata": {},
   "source": [
    "### **Definitions:**\n",
    "1. **Population**: In statistics, population is the entire set of items from which you draw data for a statistical study. It can be a group of individuals, a set of items, etc. It makes up the data pool for a study.\n",
    "2. **Sample**: A sample is defined as a smaller and more manageable representation of a larger group. A subset of a larger population that contains characteristics of that population. A sample is used in statistical testing when the population size is too large for all members or observations to be included in the test.\n",
    "3. **Population Parameter**:\n",
    "\n",
    "    - Mean, $\\mu = \\Sigma X / N$ \n",
    "    \n",
    "        where, $\\Sigma X$ is the sum of all values in the population\n",
    "        and $N$ is the size of the population.\n",
    "    \n",
    "    - Standard deviation, $\\sigma = \\sqrt{\\frac{\\sum(X-\\mu)^2}{N}}$\n",
    "    \n",
    "        where, $X$ is a value in the popluation,\n",
    "        $\\mu$ is the popluation mean,\n",
    "        and $N$ is the size of the population\n",
    "4. **Sample Statistic**:\n",
    "\n",
    "    - Mean, $\\bar{x} = \\Sigma x / n$ \n",
    "    \n",
    "        where, $\\Sigma x$ is the sum of all values in the sample\n",
    "        and $n$ is the size of the sample.\n",
    "    \n",
    "    - Standard deviation, $s = \\sqrt{\\frac{\\sum(x-\\bar{x})^2}{n-1}}$\n",
    "    \n",
    "        where, $x$ is a value in the sample,\n",
    "        $\\bar{x}$ is the popluation sample,\n",
    "        and $n$ is the size of the sample\n",
    "        \n",
    "\n",
    "A population parameter is a numerical value that describes a characteristic of a population, such as the mean or standard deviation. It is usually unknown and is estimated from sample data. For example, the population mean height of all students in a school is a population parameter.\n",
    "\n",
    "A sample statistic, on the other hand, is a numerical value that describes a characteristic of a sample, such as the sample mean or sample standard deviation. It is calculated from sample data and used to make inferences about the population. For example, the sample mean height of a group of randomly selected students is a sample statistic.    \n",
    "    "
   ]
  },
  {
   "cell_type": "markdown",
   "id": "fdbeef1c-4f45-4b4b-9f2d-6986f43d452c",
   "metadata": {},
   "source": [
    "## Point Estimates\n",
    "\n",
    "Point estimates are estimates of population parameters based on sample data. For instance, if we wanted to know the average age of registered voters in India, we could take a survey of registered voters and then use the average age of the respondents as a point estimate of the average age of the population as a whole. The average of a sample is known as the **sample mean**.\n",
    "\n",
    "The sample mean is usually not exeactly the same as the population mean. This difference can be caused by many factors such as poor survey, biased sampling methods and the randomness inherent to drawing a sample from a population."
   ]
  },
  {
   "cell_type": "code",
   "execution_count": 1,
   "id": "e84354a1-c795-4634-93ad-a40f9b359aab",
   "metadata": {
    "tags": []
   },
   "outputs": [],
   "source": [
    "import numpy as np\n",
    "import random\n",
    "import math\n",
    "import matplotlib.pyplot as plt\n",
    "import seaborn as sns\n",
    "from scipy.stats import poisson"
   ]
  },
  {
   "cell_type": "code",
   "execution_count": 2,
   "id": "b962bd64-ad3b-4ecb-a8d3-8bb1b7347367",
   "metadata": {
    "tags": []
   },
   "outputs": [
    {
     "name": "stdout",
     "output_type": "stream",
     "text": [
      "250000\n",
      "42.991528\n"
     ]
    }
   ],
   "source": [
    "np.random.seed(46) # For reproducability\n",
    "population_age_1 = poisson.rvs(loc=18, mu=35, size=150000)\n",
    "population_age_2 = poisson.rvs(loc=18, mu=10, size=100000)\n",
    "population = np.concatenate((population_age_1, population_age_2))\n",
    "print(len(population))\n",
    "print(population.mean())"
   ]
  },
  {
   "cell_type": "code",
   "execution_count": 3,
   "id": "7c122cf0-35ea-4498-ad36-cc4777460b98",
   "metadata": {
    "tags": []
   },
   "outputs": [
    {
     "name": "stdout",
     "output_type": "stream",
     "text": [
      "42.535\n",
      "0.4565280000000058\n"
     ]
    }
   ],
   "source": [
    "sample = np.random.choice(a=population, size=1000)\n",
    "print(sample.mean())\n",
    "print(population.mean() - sample.mean())"
   ]
  },
  {
   "cell_type": "markdown",
   "id": "cdcc2f22-7086-415b-a4c9-cbed414f9642",
   "metadata": {},
   "source": [
    "Our point estimate based on a sample of 1000 individuals underestimates the true population mean by 0.456 years, but it is close. This illustrates an important point: We can get a fairly accurate estimate of a large population by sampling a relatively small subset of individuals."
   ]
  },
  {
   "cell_type": "code",
   "execution_count": 4,
   "id": "2d551f09-a5ae-4052-97db-10586032dfc0",
   "metadata": {
    "tags": []
   },
   "outputs": [
    {
     "name": "stdout",
     "output_type": "stream",
     "text": [
      "other proportion estimate:\n",
      "0.1\n",
      "black proportion estimate:\n",
      "0.2\n",
      "asian proportion estimate:\n",
      "0.1\n",
      "white proportion estimate:\n",
      "0.4\n",
      "hispanic proportion estimate:\n",
      "0.2\n",
      "{'other', 'black', 'asian', 'white', 'hispanic'}\n",
      "other proportion estimate:\n",
      "0.115\n",
      "black proportion estimate:\n",
      "0.177\n",
      "asian proportion estimate:\n",
      "0.092\n",
      "white proportion estimate:\n",
      "0.413\n",
      "hispanic proportion estimate:\n",
      "0.203\n"
     ]
    }
   ],
   "source": [
    "population_races = ([\"white\"]*100000) + ([\"black\"]*50000) + \\\n",
    "                   ([\"hispanic\"]*50000) + ([\"asian\"]*25000) + \\\n",
    "                   ([\"other\"]*25000)\n",
    "\n",
    "for race in set(population_races):\n",
    "    print(race + \" proportion estimate:\")\n",
    "    print(population_races.count(race)/250000)\n",
    "\n",
    "demo_sample = random.sample(population_races, 1000)\n",
    "print(set(demo_sample))\n",
    "for race in set(demo_sample):\n",
    "    print(race + \" proportion estimate:\")\n",
    "    print(demo_sample.count(race)/1000)\n",
    "    \n"
   ]
  },
  {
   "cell_type": "markdown",
   "id": "2c7aafda-9c21-4f72-80f9-ad02b6773804",
   "metadata": {},
   "source": [
    "<br>\n",
    "\n",
    "## Sampling Distributions and Central Limit Theorem\n",
    "\n",
    "Many statistical procedures assume that the data follows a normal distribution, because the normal distribution has nice properties like symmetricity and having the majority of the data clustered withing a few standard deviations of the mean. Unfortunately, real world data is often not normally distributed and the distribution of a sample tends to mirror the distribution of the population."
   ]
  },
  {
   "cell_type": "code",
   "execution_count": 5,
   "id": "126af354-d196-4a3b-b843-deab726ff723",
   "metadata": {
    "tags": []
   },
   "outputs": [
    {
     "data": {
      "image/png": "[encoded data removed]",
      "text/plain": [
       "<Figure size 640x480 with 1 Axes>"
      ]
     },
     "metadata": {},
     "output_type": "display_data"
    }
   ],
   "source": [
    "plt.hist(population, bins=range(5, 90, 1))\n",
    "plt.xlabel(\"Population Ages\")\n",
    "plt.ylabel(\"Frequency\")\n",
    "plt.show()"
   ]
  },
  {
   "cell_type": "code",
   "execution_count": 6,
   "id": "81253a4e-7ec4-4565-9eca-ee1c15b828c4",
   "metadata": {
    "tags": []
   },
   "outputs": [
    {
     "data": {
      "image/png": "[encoded data removed]",
      "text/plain": [
       "<Figure size 640x480 with 1 Axes>"
      ]
     },
     "metadata": {},
     "output_type": "display_data"
    }
   ],
   "source": [
    "plt.hist(sample, bins=range(5, 90, 1))\n",
    "plt.xlabel(\"Sample Ages\")\n",
    "plt.ylabel(\"Frequency\")\n",
    "plt.show()"
   ]
  },
  {
   "cell_type": "markdown",
   "id": "8965b5ee-7dd4-4a1c-a8fc-501b187549f2",
   "metadata": {},
   "source": [
    "The sample has the roughly the same shape as the underlying population. This suggested that we can't apply techniques that assume a normal distribution to this dataset, since it is not normal. \n",
    "\n",
    "**In reality, we can actually apply techniques of normal distribution !**\n",
    "\n",
    "**Thanks to Central Limit Theorem.**"
   ]
  },
  {
   "cell_type": "markdown",
   "id": "eeed2335-09b3-4687-9618-848cf3f7a85d",
   "metadata": {},
   "source": [
    "## Central Limit Theorem\n",
    "\n",
    "The central limit theorem is one of the most important results of probability theory and servers as the foundation of many methods of statistical analysis. At a high level, the theorem states the distribution of many sample means, known as **sampling distribution**, will be (approximately) normally distributed. This rule holds true even if the underlying distribution itself is not normally distributed. As a result we can treat the sample mean as if it were drawn from normal distribution.\n",
    "\n",
    "To illustrate, let's create a sampling distribution by taking 200 samples from our population and then making 200 point estimates of the mean."
   ]
  },
  {
   "cell_type": "code",
   "execution_count": 7,
   "id": "7334a892-0ee6-47e9-9a79-a41e45523a80",
   "metadata": {
    "tags": []
   },
   "outputs": [],
   "source": [
    "point_estimates = []  # <---- ? Sample means\n",
    "for iteration in range(200):\n",
    "    sample = np.random.choice(a=population, size=200)\n",
    "    point_estimates.append(sample.mean())"
   ]
  },
  {
   "cell_type": "code",
   "execution_count": 8,
   "id": "b8889ce7-5fb0-4631-ae3a-2f1ff53ae56d",
   "metadata": {
    "tags": []
   },
   "outputs": [
    {
     "data": {
      "image/png": "[encoded data removed]",
      "text/plain": [
       "<Figure size 640x480 with 1 Axes>"
      ]
     },
     "metadata": {},
     "output_type": "display_data"
    }
   ],
   "source": [
    "sns.histplot(point_estimates, kde=True)\n",
    "plt.show()"
   ]
  },
  {
   "cell_type": "markdown",
   "id": "ae3d1d09-b477-4b1c-a8fc-b34444af9cc1",
   "metadata": {},
   "source": [
    "The sampling distribution appears to be roughly normal, despite the bimodal population distribution that the samples were drawn from. In addition, the mean of the sampling distribution approaches the true population mean."
   ]
  },
  {
   "cell_type": "code",
   "execution_count": 9,
   "id": "0823db9d-cd34-44a4-9eb8-fe4925146a35",
   "metadata": {
    "tags": []
   },
   "outputs": [
    {
     "name": "stdout",
     "output_type": "stream",
     "text": [
      "43.025675\n"
     ]
    }
   ],
   "source": [
    "print(np.array(point_estimates).mean())"
   ]
  },
  {
   "cell_type": "markdown",
   "id": "acf1666e-6749-4b9d-8b18-48beeb8cd6b3",
   "metadata": {},
   "source": [
    "<br>\n",
    "\n",
    "## Confidence Intervals\n",
    "\n",
    "A point estimate can give you a rough idea of a population parameter like the mean, but estimates are prone to error and taking multiple samples to get improved estimates may not be feasible.\n",
    "\n",
    "A confidence interval is a range of values above and below a point estimate that captures the true population parameter at some predetermined confidence level. For example, if you want to have 95% chance of capturing the true population parameter with a point estimate and a corresponding confidence interval, you would set your confidence level to 95%. Higher confidence levels result in a wider confidence intervals.\n",
    "\n",
    "Calculate a confidence interval by taking a point estimate and then adding and subtracting a margin of error to create a range. Margin of error is based on your desired confidence level, the spread of the data and the size of your sample. The way you calculate the margin of error depends on whether you know the standard deviation of the population or not.\n",
    "\n",
    "If you know the standard deviation of the population, the margin of error is equal to:\n",
    "\n",
    "$$z * \\frac{\\sigma}{\\sqrt{n}}$$\n",
    "\n",
    "Where $\\sigma$ (sigma) is the population standard deviation, $n$ is sample size, and $z$ is a number known as the z-critical value. The z-critical value is the number of standard deviations you'd have to go from the mean of the normal distribution to capture the proportion of the data associated with the desired confidence level. For instance, we know that roughly 95% of the data in a normal distribution lies within 2 standard deviations of the mean, so we could use 2 as the z-critical value for a 95% confidence interval (although it is more exact to get z-critical values with stats.norm.ppf().).\n",
    "\n",
    "**Z-Table**: [Link](https://byjus.com/maths/z-score-table/)\n",
    "\n",
    "**Z-Calculator**: [Link](https://www.calculator.net/z-score-calculator.html?c1raw=5&c1mean=0&c1sd=1&calctype=zscore&x=Calculate)\n",
    "\n",
    "Let's calculate a 95% confidence for our mean point estimate:"
   ]
  },
  {
   "cell_type": "code",
   "execution_count": 11,
   "id": "526ca713-df1f-4a0e-b164-3dbf9c67074a",
   "metadata": {
    "tags": []
   },
   "outputs": [
    {
     "name": "stdout",
     "output_type": "stream",
     "text": [
      "z-critical value: 1.959963984540054\n",
      "Confidence Interval: (41.78425214484725, 43.42374785515275)\n"
     ]
    }
   ],
   "source": [
    "from scipy.stats import norm\n",
    "\n",
    "sample_size = 1000\n",
    "sample = np.random.choice(a=population, size=sample_size)\n",
    "sample_mean = sample.mean()\n",
    "\n",
    "z_critical = norm.ppf(q=0.975)\n",
    "print(f\"z-critical value: {z_critical}\")\n",
    "\n",
    "pop_stddev = population.std()\n",
    "\n",
    "margin_of_error = z_critical * (pop_stddev / math.sqrt(sample_size))\n",
    "\n",
    "confidence_interval = (sample_mean - margin_of_error,\n",
    "                      sample_mean + margin_of_error)\n",
    "\n",
    "print(f\"Confidence Interval: {confidence_interval}\")"
   ]
  },
  {
   "cell_type": "code",
   "execution_count": 12,
   "id": "c450c6d3-7e76-42c3-a2e0-df30476b0764",
   "metadata": {
    "tags": []
   },
   "outputs": [
    {
     "name": "stdout",
     "output_type": "stream",
     "text": [
      "z-critical value: 2.5758293035489004\n",
      "Confidence Interval: (41.52166870030302, 43.676331299696976)\n"
     ]
    }
   ],
   "source": [
    "from scipy.stats import norm\n",
    "\n",
    "sample_size = 1000\n",
    "sample = np.random.choice(a=population, size=sample_size)\n",
    "sample_mean = sample.mean()\n",
    "\n",
    "z_critical = norm.ppf(q=0.995)\n",
    "print(f\"z-critical value: {z_critical}\")\n",
    "\n",
    "pop_stddev = population.std()\n",
    "\n",
    "margin_of_error = z_critical * (pop_stddev / math.sqrt(sample_size))\n",
    "\n",
    "confidence_interval = (sample_mean - margin_of_error,\n",
    "                      sample_mean + margin_of_error)\n",
    "\n",
    "print(f\"Confidence Interval: {confidence_interval}\")"
   ]
  },
  {
   "cell_type": "markdown",
   "id": "fa598541-0c07-49b2-9ab5-836dca6f493a",
   "metadata": {
    "tags": []
   },
   "source": [
    "Notice that the confidence interval we calculated captures the true population mean of 42.99.\n",
    "\n",
    "### Wait ! Let's understand Level of Significance !\n",
    "\n",
    "The method norm.ppf() takes a percentage and returns a standard deviation multiplier for what value that percentage occurs at.\n",
    "It is equivalent to a **'One-tail test'** on the density plot.\n",
    "\n",
    "From scipy.stats.norm:\n",
    "\n",
    "ppf(q, loc=0, scale=1) Percent point function (inverse of cdf — percentiles).\n",
    "\n",
    "**For one-tailed test:**\n",
    "\n",
    "norm.ppf(q=0.95)\n",
    "Returns a 95% confidence interval for a one-tail test on a standard normal distribution (i.e. a special case of the normal distribution where the mean is 0 and the standard deviation is 1).\n",
    "\n",
    "**For two-tailed test:**\n",
    "If we need to calculate a **'Two-tail test'** (i.e. We're concerned with values both greater and less than our mean) then we need to split the significance (i.e. our alpha value) because we're still using a calculation method for one-tail. The split in half symbolizes the significance level being appropriated to both tails. A 95% confidence level has a 5% alpha; splitting the 5% alpha across both tails returns 2.5%. Taking 2.5% from 100% returns 97.5% as an input for the significance level.\n",
    "\n",
    "Therefore, if we were concerned with values on both sides of our mean, our code would input .975 to represent a 95% confidence level across two-tails:\n",
    "norm.ppf(q=0.975)\n",
    "\n",
    "<div align = \"center\">\n",
    "<img src = \"https://i.stack.imgur.com/KmJzJm.png\" width = 600 />\n",
    "</div>\n",
    "\n",
    "<div align = \"center\">\n",
    "<img src = \"https://www.simplypsychology.org/wp-content/uploads/SND.png\" width = 600 />\n",
    "</div>\n",
    "\n",
    "Let's create several confidence intervals and plot them to get a better sense of what it means to \"capture\" the true mean:"
   ]
  },
  {
   "cell_type": "code",
   "execution_count": 15,
   "id": "ee239bfa-2f80-4d99-a373-04324c31a5fb",
   "metadata": {
    "tags": []
   },
   "outputs": [],
   "source": [
    "sample_size = 1000  \n",
    "intervals = list()  # list of tuples\n",
    "sample_means = list()\n",
    "\n",
    "for sample in range(25):\n",
    "    sample = np.random.choice(a=population, size=sample_size)\n",
    "    sample_mean = sample.mean()\n",
    "    sample_means.append(sample_mean)\n",
    "    \n",
    "    z_critical = norm.ppf(q=0.975)\n",
    "    pop_stddev = population.std()\n",
    "\n",
    "    margin_of_error = z_critical * (pop_stddev / math.sqrt(sample_size))\n",
    "\n",
    "    confidence_interval = (sample_mean - margin_of_error,\n",
    "                          sample_mean + margin_of_error)\n",
    "\n",
    "    intervals.append(confidence_interval)"
   ]
  },
  {
   "cell_type": "code",
   "execution_count": 16,
   "id": "47aaca22-165f-4467-bc17-73d411ce31b4",
   "metadata": {
    "tags": []
   },
   "outputs": [
    {
     "data": {
      "text/plain": [
       "[]"
      ]
     },
     "execution_count": 16,
     "metadata": {},
     "output_type": "execute_result"
    },
    {
     "data": {
      "image/png": "[encoded data removed]",
      "text/plain": [
       "<Figure size 900x900 with 1 Axes>"
      ]
     },
     "metadata": {},
     "output_type": "display_data"
    }
   ],
   "source": [
    "plt.figure(figsize=(9,9))\n",
    "\n",
    "plt.errorbar(x=np.arange(0.1, 25, 1), \n",
    "             y=sample_means, \n",
    "             yerr=[abs(top - bot) / 2 for top, bot in intervals],\n",
    "             fmt='o')\n",
    "\n",
    "plt.hlines(xmin=0, xmax=25,\n",
    "           y=42.99, \n",
    "           linewidth=2.0,\n",
    "           color=\"red\")\n",
    "plt.plot()"
   ]
  },
  {
   "cell_type": "markdown",
   "id": "7fd512a4-0d76-4e6b-a740-03c9ed1eb50f",
   "metadata": {},
   "source": [
    "Notice that in the plot above, all but two of the 95% confidence intervals overlap the red line marking the true mean. This is to be expected: since a 95% confidence interval captures the true mean 95% of the time, we'd expect our interval to miss the true mean 5% of the time.\n",
    "\n",
    "If you don't know the standard deviation of the population, you have to use the standard deviation of your sample as a stand in when creating confidence intervals. Since the sample standard deviation may not match the population parameter the interval will have more error when you don't know the population standard deviation. To account for this error, we use what's known as a t-critical value instead of the z-critical value. The t-critical value is drawn from what's known as a t-distribution--a distribution that closely resembles the normal distribution but that gets wider and wider as the sample size falls. The t-distribution is available in scipy.stats with the nickname \"t\" so we can get t-critical values with stats.t.ppf().\n",
    "\n",
    "Let's take a new, smaller sample and then create a confidence interval without the population standard deviation, using the t-distribution:"
   ]
  },
  {
   "cell_type": "code",
   "execution_count": 21,
   "id": "4bcc06c0-fc22-4093-8b8f-d680b2ec68d6",
   "metadata": {
    "tags": []
   },
   "outputs": [
    {
     "name": "stdout",
     "output_type": "stream",
     "text": [
      "t-critical value: 2.0638985616280205\n",
      "Confidence interval: (36.29796254418255, 46.82203745581745)\n"
     ]
    }
   ],
   "source": [
    "from scipy.stats import t\n",
    "\n",
    "sample_size = 25\n",
    "sample = np.random.choice(a=population, size=sample_size)\n",
    "sample_mean = sample.mean()\n",
    "\n",
    "t_critical = t.ppf(q=0.975, df=sample_size-1)\n",
    "\n",
    "print(f\"t-critical value: {t_critical}\")\n",
    "\n",
    "sample_stddev = sample.std(ddof=1)  #Very important to include ddof=1 as formula of sample's std divides by n - 1\n",
    "\n",
    "std_dev_estimate = sample_stddev / math.sqrt(sample_size)\n",
    "\n",
    "margin_of_error = t_critical * (std_dev_estimate)\n",
    "\n",
    "confidence_interval = (sample_mean - margin_of_error, sample_mean + margin_of_error)\n",
    "\n",
    "print(f\"Confidence interval: {confidence_interval}\")"
   ]
  },
  {
   "cell_type": "markdown",
   "id": "26b455c9-fade-466f-9d4c-564c89470a6c",
   "metadata": {},
   "source": [
    "*Note: when using the t-distribution, you have to supply the degrees of freedom (df). For this type of test, the degrees of freedom is equal to the sample size minus 1. If you have a large sample size, the t-distribution approaches the normal distribution.*\n",
    "\n",
    "Notice that the t-critical value is larger than the z-critical value we used for 95% confidence interval. This allows the confidence interval to cast a larger net to make up for the variability caused by using the sample standard deviation in place of the population standard deviation. The end result is a much wider confidence interval (an interval with a larger margin of error.).\n",
    "\n",
    "If you have a large sample, the t-critical value will approach the z-critical value so there is little difference between using the normal distribution vs. the t-distribution:"
   ]
  },
  {
   "cell_type": "code",
   "execution_count": 19,
   "id": "025829e2-5c53-40ef-a3f3-208697a30762",
   "metadata": {
    "tags": []
   },
   "outputs": [
    {
     "data": {
      "text/plain": [
       "0.0002372790813034431"
      ]
     },
     "execution_count": 19,
     "metadata": {},
     "output_type": "execute_result"
    }
   ],
   "source": [
    "t.ppf(q=0.975, df=9999) - norm.ppf(q=0.975)"
   ]
  },
  {
   "cell_type": "code",
   "execution_count": 22,
   "id": "fab8eeb4-055d-4f1d-acec-87fae9b3c6d7",
   "metadata": {
    "tags": []
   },
   "outputs": [
    {
     "data": {
      "text/plain": [
       "(36.29796254418255, 46.82203745581745)"
      ]
     },
     "execution_count": 22,
     "metadata": {},
     "output_type": "execute_result"
    }
   ],
   "source": [
    "t.interval(\n",
    "    confidence=0.95,  # Confidence interval, just write as it is, without splitting the alpha and adding it up.\n",
    "    df=24,            # Degrees of freedom\n",
    "    loc=sample_mean,  # Sample mean\n",
    "    scale=std_dev_estimate       # Standard deviation estimate (Calculated in the above cell)\n",
    ")"
   ]
  },
  {
   "cell_type": "markdown",
   "id": "9fb589a6-4456-462e-9ca7-34d634f61c40",
   "metadata": {},
   "source": [
    "We can also make a confidence interval for a point estimate of a population proportion. In this case, the margin of error equals:\n",
    "\n",
    "$$z * \\sqrt{\\frac{p(1-p)}{n}}$$\n",
    "\n",
    "Where z is the z-critical value for our confidence level, p is the point estimate of the population proportion and n is the sample size. Let's calculate a 95% confidence interval for Hispanics according to the sample proportion we calculated earlier:"
   ]
  },
  {
   "cell_type": "code",
   "execution_count": 23,
   "id": "adb2750d-df2b-42bf-bf3f-a13c762f10fb",
   "metadata": {
    "tags": []
   },
   "outputs": [
    {
     "data": {
      "text/plain": [
       "(0.17806982823847933, 0.2279301717615207)"
      ]
     },
     "execution_count": 23,
     "metadata": {},
     "output_type": "execute_result"
    }
   ],
   "source": [
    "z_critical = norm.ppf(0.975)\n",
    "\n",
    "p = 0.203\n",
    "\n",
    "n = 1000\n",
    "\n",
    "margin_of_error = z_critical * math.sqrt((p * (1 - p)/n))\n",
    "\n",
    "confidence_interval = (p - margin_of_error, p + margin_of_error)\n",
    "\n",
    "confidence_interval"
   ]
  },
  {
   "cell_type": "markdown",
   "id": "dfa5a4f1-a448-438d-b978-d1d2237240db",
   "metadata": {},
   "source": [
    "The output shows that the confidence interval captured the true population parameter of 0.2. Similar to our population mean point estimates, we can use the scipy stats.distribution.interval() function to calculate a confidence interval for a population proportion for us. In this case were working with z-critical values so we want to work with the normal distribution instead of the t distribution:"
   ]
  },
  {
   "cell_type": "code",
   "execution_count": 25,
   "id": "69acaac5-aa24-4028-b365-9ef8cde0bdbf",
   "metadata": {
    "tags": []
   },
   "outputs": [
    {
     "data": {
      "text/plain": [
       "(0.17806982823847933, 0.2279301717615207)"
      ]
     },
     "execution_count": 25,
     "metadata": {},
     "output_type": "execute_result"
    }
   ],
   "source": [
    "norm.interval(\n",
    "    confidence=0.95,\n",
    "    loc=0.203,\n",
    "    scale=math.sqrt((p * (1 - p)/n))\n",
    ")"
   ]
  },
  {
   "cell_type": "code",
   "execution_count": null,
   "id": "0d8b5fe9-9687-49bd-9096-e33f97df06e5",
   "metadata": {},
   "outputs": [],
   "source": []
  }
 ],
 "metadata": {
  "kernelspec": {
   "display_name": "Python 3 (ipykernel)",
   "language": "python",
   "name": "python3"
  },
  "language_info": {
   "codemirror_mode": {
    "name": "ipython",
    "version": 3
   },
   "file_extension": ".py",
   "mimetype": "text/x-python",
   "name": "python",
   "nbconvert_exporter": "python",
   "pygments_lexer": "ipython3",
   "version": "3.11.5"
  }
 },
 "nbformat": 4,
 "nbformat_minor": 5
}
